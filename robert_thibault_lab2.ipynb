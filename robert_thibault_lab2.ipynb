{
  "nbformat": 4,
  "nbformat_minor": 0,
  "metadata": {
    "colab": {
      "provenance": [],
      "authorship_tag": "ABX9TyOTi1FhDHJezUiXdf7lSrPM",
      "include_colab_link": true
    },
    "kernelspec": {
      "name": "python3",
      "display_name": "Python 3"
    },
    "language_info": {
      "name": "python"
    }
  },
  "cells": [
    {
      "cell_type": "markdown",
      "metadata": {
        "id": "view-in-github",
        "colab_type": "text"
      },
      "source": [
        "<a href=\"https://colab.research.google.com/github/NiceSoyce/DS_Lab2/blob/main/robert_thibault_lab2.ipynb\" target=\"_parent\"><img src=\"https://colab.research.google.com/assets/colab-badge.svg\" alt=\"Open In Colab\"/></a>"
      ]
    },
    {
      "cell_type": "markdown",
      "source": [
        "# Analyse en Composantes Principales (ACP)"
      ],
      "metadata": {
        "id": "itoXX2jVK22U"
      }
    },
    {
      "cell_type": "markdown",
      "source": [
        "## Partie 1 : Analyse du dataset *decathlon*"
      ],
      "metadata": {
        "id": "Y6oQgD5WL6oh"
      }
    },
    {
      "cell_type": "markdown",
      "source": [
        "### 1. Préparation des donneés"
      ],
      "metadata": {
        "id": "7bM43n1QMWaQ"
      }
    },
    {
      "cell_type": "code",
      "execution_count": null,
      "metadata": {
        "id": "xZE2zP6oxc20"
      },
      "outputs": [],
      "source": []
    },
    {
      "cell_type": "markdown",
      "source": [
        "### 2. Initialisation du ACP"
      ],
      "metadata": {
        "id": "UPBEhWbrMcoy"
      }
    },
    {
      "cell_type": "code",
      "source": [],
      "metadata": {
        "id": "HmGmf0AKMjvl"
      },
      "execution_count": null,
      "outputs": []
    },
    {
      "cell_type": "markdown",
      "source": [
        "### 3. Analyse de l'inertie"
      ],
      "metadata": {
        "id": "njhf_2pzMinT"
      }
    },
    {
      "cell_type": "code",
      "source": [],
      "metadata": {
        "id": "695NW9YvMo19"
      },
      "execution_count": null,
      "outputs": []
    },
    {
      "cell_type": "markdown",
      "source": [
        "### 4. Étude des variables"
      ],
      "metadata": {
        "id": "atMEHwFuMpKX"
      }
    },
    {
      "cell_type": "code",
      "source": [],
      "metadata": {
        "id": "RYy8_TmiMtpw"
      },
      "execution_count": null,
      "outputs": []
    },
    {
      "cell_type": "markdown",
      "source": [
        "### 5. Étude des variables"
      ],
      "metadata": {
        "id": "f7uxRU33Mt7j"
      }
    },
    {
      "cell_type": "code",
      "source": [],
      "metadata": {
        "id": "zJal7wBNMwJa"
      },
      "execution_count": null,
      "outputs": []
    },
    {
      "cell_type": "markdown",
      "source": [
        "### 6. Qualité de représentation"
      ],
      "metadata": {
        "id": "O6aVfMLxMwhw"
      }
    },
    {
      "cell_type": "code",
      "source": [],
      "metadata": {
        "id": "9LRq-xyhM27r"
      },
      "execution_count": null,
      "outputs": []
    },
    {
      "cell_type": "markdown",
      "source": [
        "### 7. Synthèse de résultats"
      ],
      "metadata": {
        "id": "9UOqdaoQM3Ri"
      }
    },
    {
      "cell_type": "code",
      "source": [],
      "metadata": {
        "id": "P0uSYt0FM69F"
      },
      "execution_count": null,
      "outputs": []
    },
    {
      "cell_type": "markdown",
      "source": [
        "## Partie 2 : Analyse du dataset *digits*"
      ],
      "metadata": {
        "id": "l_LmEO-NMHF4"
      }
    },
    {
      "cell_type": "markdown",
      "source": [
        "### 1. Chargement et visualisation des données"
      ],
      "metadata": {
        "id": "ePFOyJN_M_8Y"
      }
    },
    {
      "cell_type": "code",
      "source": [],
      "metadata": {
        "id": "4Qc6WWE2MTzh"
      },
      "execution_count": null,
      "outputs": []
    },
    {
      "cell_type": "markdown",
      "source": [
        "### 2. Prétraitement"
      ],
      "metadata": {
        "id": "H0MqQO6NNE8_"
      }
    },
    {
      "cell_type": "code",
      "source": [],
      "metadata": {
        "id": "_JwsEQ_3NHQK"
      },
      "execution_count": null,
      "outputs": []
    },
    {
      "cell_type": "markdown",
      "source": [
        "### 3. Classification sans ACP"
      ],
      "metadata": {
        "id": "w_SbQMkRNHgD"
      }
    },
    {
      "cell_type": "code",
      "source": [],
      "metadata": {
        "id": "ebw4aU-WNKjk"
      },
      "execution_count": null,
      "outputs": []
    },
    {
      "cell_type": "markdown",
      "source": [
        "### 4. Réduction de dimension avec ACP"
      ],
      "metadata": {
        "id": "JRiExIgPNKzc"
      }
    },
    {
      "cell_type": "code",
      "source": [],
      "metadata": {
        "id": "zHFWZnFLNQEm"
      },
      "execution_count": null,
      "outputs": []
    },
    {
      "cell_type": "markdown",
      "source": [
        "### 5. Classification après ACP"
      ],
      "metadata": {
        "id": "s_rQoFCdNQvN"
      }
    },
    {
      "cell_type": "code",
      "source": [],
      "metadata": {
        "id": "I0xQCBczNU7n"
      },
      "execution_count": null,
      "outputs": []
    },
    {
      "cell_type": "markdown",
      "source": [
        "### 6. Visualisation"
      ],
      "metadata": {
        "id": "oOXJfYQ6NVO9"
      }
    },
    {
      "cell_type": "code",
      "source": [],
      "metadata": {
        "id": "DEv2Ebo-NXVJ"
      },
      "execution_count": null,
      "outputs": []
    }
  ]
}